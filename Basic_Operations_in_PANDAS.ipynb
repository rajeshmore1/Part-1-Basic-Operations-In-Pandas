{
  "nbformat": 4,
  "nbformat_minor": 0,
  "metadata": {
    "colab": {
      "name": "Basic Operations in PANDAS.ipynb",
      "provenance": [],
      "collapsed_sections": [],
      "authorship_tag": "ABX9TyO6YgsOQLeAUrOrshfInuvp",
      "include_colab_link": true
    },
    "kernelspec": {
      "name": "python3",
      "display_name": "Python 3"
    }
  },
  "cells": [
    {
      "cell_type": "markdown",
      "metadata": {
        "id": "view-in-github",
        "colab_type": "text"
      },
      "source": [
        "<a href=\"https://colab.research.google.com/github/rajeshmore1/Part-1-Basic-Operations-In-Pandas/blob/main/Basic_Operations_in_PANDAS.ipynb\" target=\"_parent\"><img src=\"https://colab.research.google.com/assets/colab-badge.svg\" alt=\"Open In Colab\"/></a>"
      ]
    },
    {
      "cell_type": "code",
      "metadata": {
        "id": "TQroTM_TntG_"
      },
      "source": [
        "import pandas as pd\n",
        "import numpy as np\n"
      ],
      "execution_count": null,
      "outputs": []
    },
    {
      "cell_type": "code",
      "metadata": {
        "id": "BYB-OiKSl-af",
        "outputId": "efa594bd-1e17-4a20-ff19-b183bae5a551",
        "colab": {
          "base_uri": "https://localhost:8080/"
        }
      },
      "source": [
        "from google.colab import drive\n",
        "drive.mount('/content/drive')"
      ],
      "execution_count": null,
      "outputs": [
        {
          "output_type": "stream",
          "text": [
            "Mounted at /content/drive\n"
          ],
          "name": "stdout"
        }
      ]
    },
    {
      "cell_type": "code",
      "metadata": {
        "id": "JVeDs5Zdmf0D"
      },
      "source": [
        "mypath= '/content/drive/My Drive/AlmaBetter/Cohort Aravali/Module 1/Week 3/Day 6/ICC T20 Data/Copy of International_T20_Data.csv'\n",
        "iccdf=pd.read_csv(mypath)"
      ],
      "execution_count": null,
      "outputs": []
    },
    {
      "cell_type": "code",
      "metadata": {
        "id": "vpO5or0mnq0M",
        "outputId": "ce192732-3bf2-496d-d8b2-64ba8d0a7a6f",
        "colab": {
          "base_uri": "https://localhost:8080/",
          "height": 584
        }
      },
      "source": [
        "iccdf.head()"
      ],
      "execution_count": null,
      "outputs": [
        {
          "output_type": "execute_result",
          "data": {
            "text/html": [
              "<div>\n",
              "<style scoped>\n",
              "    .dataframe tbody tr th:only-of-type {\n",
              "        vertical-align: middle;\n",
              "    }\n",
              "\n",
              "    .dataframe tbody tr th {\n",
              "        vertical-align: top;\n",
              "    }\n",
              "\n",
              "    .dataframe thead th {\n",
              "        text-align: right;\n",
              "    }\n",
              "</style>\n",
              "<table border=\"1\" class=\"dataframe\">\n",
              "  <thead>\n",
              "    <tr style=\"text-align: right;\">\n",
              "      <th></th>\n",
              "      <th>innings</th>\n",
              "      <th>meta.data_version</th>\n",
              "      <th>meta.created</th>\n",
              "      <th>meta.revision</th>\n",
              "      <th>info.dates</th>\n",
              "      <th>info.gender</th>\n",
              "      <th>info.match_type</th>\n",
              "      <th>info.outcome.by.wickets</th>\n",
              "      <th>info.outcome.winner</th>\n",
              "      <th>info.overs</th>\n",
              "      <th>info.player_of_match</th>\n",
              "      <th>info.teams</th>\n",
              "      <th>info.toss.decision</th>\n",
              "      <th>info.toss.winner</th>\n",
              "      <th>info.umpires</th>\n",
              "      <th>info.venue</th>\n",
              "      <th>info.city</th>\n",
              "      <th>info.outcome.by.runs</th>\n",
              "      <th>info.match_type_number</th>\n",
              "      <th>info.neutral_venue</th>\n",
              "      <th>info.outcome.method</th>\n",
              "      <th>info.outcome.result</th>\n",
              "      <th>info.outcome.eliminator</th>\n",
              "      <th>info.supersubs.New Zealand</th>\n",
              "      <th>info.supersubs.South Africa</th>\n",
              "      <th>info.bowl_out</th>\n",
              "      <th>info.outcome.bowl_out</th>\n",
              "    </tr>\n",
              "  </thead>\n",
              "  <tbody>\n",
              "    <tr>\n",
              "      <th>0</th>\n",
              "      <td>[{'1st innings': {'team': 'Australia', 'delive...</td>\n",
              "      <td>0.9</td>\n",
              "      <td>2017-02-18</td>\n",
              "      <td>2</td>\n",
              "      <td>[datetime.date(2017, 2, 17)]</td>\n",
              "      <td>male</td>\n",
              "      <td>T20</td>\n",
              "      <td>5.0</td>\n",
              "      <td>Sri Lanka</td>\n",
              "      <td>20</td>\n",
              "      <td>['DAS Gunaratne']</td>\n",
              "      <td>['Australia', 'Sri Lanka']</td>\n",
              "      <td>field</td>\n",
              "      <td>Sri Lanka</td>\n",
              "      <td>['MD Martell', 'P Wilson']</td>\n",
              "      <td>Melbourne Cricket Ground</td>\n",
              "      <td>NaN</td>\n",
              "      <td>NaN</td>\n",
              "      <td>NaN</td>\n",
              "      <td>NaN</td>\n",
              "      <td>NaN</td>\n",
              "      <td>NaN</td>\n",
              "      <td>NaN</td>\n",
              "      <td>NaN</td>\n",
              "      <td>NaN</td>\n",
              "      <td>NaN</td>\n",
              "      <td>NaN</td>\n",
              "    </tr>\n",
              "    <tr>\n",
              "      <th>1</th>\n",
              "      <td>[{'1st innings': {'team': 'Australia', 'delive...</td>\n",
              "      <td>0.9</td>\n",
              "      <td>2017-02-19</td>\n",
              "      <td>2</td>\n",
              "      <td>[datetime.date(2017, 2, 19)]</td>\n",
              "      <td>male</td>\n",
              "      <td>T20</td>\n",
              "      <td>2.0</td>\n",
              "      <td>Sri Lanka</td>\n",
              "      <td>20</td>\n",
              "      <td>['DAS Gunaratne']</td>\n",
              "      <td>['Australia', 'Sri Lanka']</td>\n",
              "      <td>field</td>\n",
              "      <td>Sri Lanka</td>\n",
              "      <td>['SD Fry', 'SJ Nogajski']</td>\n",
              "      <td>Simonds Stadium, South Geelong</td>\n",
              "      <td>Victoria</td>\n",
              "      <td>NaN</td>\n",
              "      <td>NaN</td>\n",
              "      <td>NaN</td>\n",
              "      <td>NaN</td>\n",
              "      <td>NaN</td>\n",
              "      <td>NaN</td>\n",
              "      <td>NaN</td>\n",
              "      <td>NaN</td>\n",
              "      <td>NaN</td>\n",
              "      <td>NaN</td>\n",
              "    </tr>\n",
              "    <tr>\n",
              "      <th>2</th>\n",
              "      <td>[{'1st innings': {'team': 'Australia', 'delive...</td>\n",
              "      <td>0.9</td>\n",
              "      <td>2017-02-23</td>\n",
              "      <td>1</td>\n",
              "      <td>[datetime.date(2017, 2, 22)]</td>\n",
              "      <td>male</td>\n",
              "      <td>T20</td>\n",
              "      <td>NaN</td>\n",
              "      <td>Australia</td>\n",
              "      <td>20</td>\n",
              "      <td>['A Zampa']</td>\n",
              "      <td>['Australia', 'Sri Lanka']</td>\n",
              "      <td>field</td>\n",
              "      <td>Sri Lanka</td>\n",
              "      <td>['MD Martell', 'P Wilson']</td>\n",
              "      <td>Adelaide Oval</td>\n",
              "      <td>NaN</td>\n",
              "      <td>41.0</td>\n",
              "      <td>NaN</td>\n",
              "      <td>NaN</td>\n",
              "      <td>NaN</td>\n",
              "      <td>NaN</td>\n",
              "      <td>NaN</td>\n",
              "      <td>NaN</td>\n",
              "      <td>NaN</td>\n",
              "      <td>NaN</td>\n",
              "      <td>NaN</td>\n",
              "    </tr>\n",
              "    <tr>\n",
              "      <th>3</th>\n",
              "      <td>[{'1st innings': {'team': 'Hong Kong', 'delive...</td>\n",
              "      <td>0.9</td>\n",
              "      <td>2016-09-12</td>\n",
              "      <td>1</td>\n",
              "      <td>[datetime.date(2016, 9, 5)]</td>\n",
              "      <td>male</td>\n",
              "      <td>T20</td>\n",
              "      <td>NaN</td>\n",
              "      <td>Hong Kong</td>\n",
              "      <td>20</td>\n",
              "      <td>NaN</td>\n",
              "      <td>['Ireland', 'Hong Kong']</td>\n",
              "      <td>bat</td>\n",
              "      <td>Hong Kong</td>\n",
              "      <td>['R Black', 'AJ Neill']</td>\n",
              "      <td>Bready Cricket Club, Magheramason</td>\n",
              "      <td>Londonderry</td>\n",
              "      <td>40.0</td>\n",
              "      <td>NaN</td>\n",
              "      <td>NaN</td>\n",
              "      <td>NaN</td>\n",
              "      <td>NaN</td>\n",
              "      <td>NaN</td>\n",
              "      <td>NaN</td>\n",
              "      <td>NaN</td>\n",
              "      <td>NaN</td>\n",
              "      <td>NaN</td>\n",
              "    </tr>\n",
              "    <tr>\n",
              "      <th>4</th>\n",
              "      <td>[{'1st innings': {'team': 'Zimbabwe', 'deliver...</td>\n",
              "      <td>0.9</td>\n",
              "      <td>2016-06-19</td>\n",
              "      <td>1</td>\n",
              "      <td>[datetime.date(2016, 6, 18)]</td>\n",
              "      <td>male</td>\n",
              "      <td>T20</td>\n",
              "      <td>NaN</td>\n",
              "      <td>Zimbabwe</td>\n",
              "      <td>20</td>\n",
              "      <td>['E Chigumbura']</td>\n",
              "      <td>['Zimbabwe', 'India']</td>\n",
              "      <td>field</td>\n",
              "      <td>India</td>\n",
              "      <td>['TJ Matibiri', 'RB Tiffin']</td>\n",
              "      <td>Harare Sports Club</td>\n",
              "      <td>NaN</td>\n",
              "      <td>2.0</td>\n",
              "      <td>NaN</td>\n",
              "      <td>NaN</td>\n",
              "      <td>NaN</td>\n",
              "      <td>NaN</td>\n",
              "      <td>NaN</td>\n",
              "      <td>NaN</td>\n",
              "      <td>NaN</td>\n",
              "      <td>NaN</td>\n",
              "      <td>NaN</td>\n",
              "    </tr>\n",
              "  </tbody>\n",
              "</table>\n",
              "</div>"
            ],
            "text/plain": [
              "                                             innings  ...  info.outcome.bowl_out\n",
              "0  [{'1st innings': {'team': 'Australia', 'delive...  ...                    NaN\n",
              "1  [{'1st innings': {'team': 'Australia', 'delive...  ...                    NaN\n",
              "2  [{'1st innings': {'team': 'Australia', 'delive...  ...                    NaN\n",
              "3  [{'1st innings': {'team': 'Hong Kong', 'delive...  ...                    NaN\n",
              "4  [{'1st innings': {'team': 'Zimbabwe', 'deliver...  ...                    NaN\n",
              "\n",
              "[5 rows x 27 columns]"
            ]
          },
          "metadata": {
            "tags": []
          },
          "execution_count": 6
        }
      ]
    },
    {
      "cell_type": "code",
      "metadata": {
        "id": "WX-Y3om_n2uo",
        "outputId": "a73880ed-63bd-422d-beb0-9ccbda51ed4d",
        "colab": {
          "base_uri": "https://localhost:8080/",
          "height": 391
        }
      },
      "source": [
        "iccdf[2:5]"
      ],
      "execution_count": null,
      "outputs": [
        {
          "output_type": "execute_result",
          "data": {
            "text/html": [
              "<div>\n",
              "<style scoped>\n",
              "    .dataframe tbody tr th:only-of-type {\n",
              "        vertical-align: middle;\n",
              "    }\n",
              "\n",
              "    .dataframe tbody tr th {\n",
              "        vertical-align: top;\n",
              "    }\n",
              "\n",
              "    .dataframe thead th {\n",
              "        text-align: right;\n",
              "    }\n",
              "</style>\n",
              "<table border=\"1\" class=\"dataframe\">\n",
              "  <thead>\n",
              "    <tr style=\"text-align: right;\">\n",
              "      <th></th>\n",
              "      <th>innings</th>\n",
              "      <th>meta.data_version</th>\n",
              "      <th>meta.created</th>\n",
              "      <th>meta.revision</th>\n",
              "      <th>info.dates</th>\n",
              "      <th>info.gender</th>\n",
              "      <th>info.match_type</th>\n",
              "      <th>info.outcome.by.wickets</th>\n",
              "      <th>info.outcome.winner</th>\n",
              "      <th>info.overs</th>\n",
              "      <th>info.player_of_match</th>\n",
              "      <th>info.teams</th>\n",
              "      <th>info.toss.decision</th>\n",
              "      <th>info.toss.winner</th>\n",
              "      <th>info.umpires</th>\n",
              "      <th>info.venue</th>\n",
              "      <th>info.city</th>\n",
              "      <th>info.outcome.by.runs</th>\n",
              "      <th>info.match_type_number</th>\n",
              "      <th>info.neutral_venue</th>\n",
              "      <th>info.outcome.method</th>\n",
              "      <th>info.outcome.result</th>\n",
              "      <th>info.outcome.eliminator</th>\n",
              "      <th>info.supersubs.New Zealand</th>\n",
              "      <th>info.supersubs.South Africa</th>\n",
              "      <th>info.bowl_out</th>\n",
              "      <th>info.outcome.bowl_out</th>\n",
              "    </tr>\n",
              "  </thead>\n",
              "  <tbody>\n",
              "    <tr>\n",
              "      <th>2</th>\n",
              "      <td>[{'1st innings': {'team': 'Australia', 'delive...</td>\n",
              "      <td>0.9</td>\n",
              "      <td>2017-02-23</td>\n",
              "      <td>1</td>\n",
              "      <td>[datetime.date(2017, 2, 22)]</td>\n",
              "      <td>male</td>\n",
              "      <td>T20</td>\n",
              "      <td>NaN</td>\n",
              "      <td>Australia</td>\n",
              "      <td>20</td>\n",
              "      <td>['A Zampa']</td>\n",
              "      <td>['Australia', 'Sri Lanka']</td>\n",
              "      <td>field</td>\n",
              "      <td>Sri Lanka</td>\n",
              "      <td>['MD Martell', 'P Wilson']</td>\n",
              "      <td>Adelaide Oval</td>\n",
              "      <td>NaN</td>\n",
              "      <td>41.0</td>\n",
              "      <td>NaN</td>\n",
              "      <td>NaN</td>\n",
              "      <td>NaN</td>\n",
              "      <td>NaN</td>\n",
              "      <td>NaN</td>\n",
              "      <td>NaN</td>\n",
              "      <td>NaN</td>\n",
              "      <td>NaN</td>\n",
              "      <td>NaN</td>\n",
              "    </tr>\n",
              "    <tr>\n",
              "      <th>3</th>\n",
              "      <td>[{'1st innings': {'team': 'Hong Kong', 'delive...</td>\n",
              "      <td>0.9</td>\n",
              "      <td>2016-09-12</td>\n",
              "      <td>1</td>\n",
              "      <td>[datetime.date(2016, 9, 5)]</td>\n",
              "      <td>male</td>\n",
              "      <td>T20</td>\n",
              "      <td>NaN</td>\n",
              "      <td>Hong Kong</td>\n",
              "      <td>20</td>\n",
              "      <td>NaN</td>\n",
              "      <td>['Ireland', 'Hong Kong']</td>\n",
              "      <td>bat</td>\n",
              "      <td>Hong Kong</td>\n",
              "      <td>['R Black', 'AJ Neill']</td>\n",
              "      <td>Bready Cricket Club, Magheramason</td>\n",
              "      <td>Londonderry</td>\n",
              "      <td>40.0</td>\n",
              "      <td>NaN</td>\n",
              "      <td>NaN</td>\n",
              "      <td>NaN</td>\n",
              "      <td>NaN</td>\n",
              "      <td>NaN</td>\n",
              "      <td>NaN</td>\n",
              "      <td>NaN</td>\n",
              "      <td>NaN</td>\n",
              "      <td>NaN</td>\n",
              "    </tr>\n",
              "    <tr>\n",
              "      <th>4</th>\n",
              "      <td>[{'1st innings': {'team': 'Zimbabwe', 'deliver...</td>\n",
              "      <td>0.9</td>\n",
              "      <td>2016-06-19</td>\n",
              "      <td>1</td>\n",
              "      <td>[datetime.date(2016, 6, 18)]</td>\n",
              "      <td>male</td>\n",
              "      <td>T20</td>\n",
              "      <td>NaN</td>\n",
              "      <td>Zimbabwe</td>\n",
              "      <td>20</td>\n",
              "      <td>['E Chigumbura']</td>\n",
              "      <td>['Zimbabwe', 'India']</td>\n",
              "      <td>field</td>\n",
              "      <td>India</td>\n",
              "      <td>['TJ Matibiri', 'RB Tiffin']</td>\n",
              "      <td>Harare Sports Club</td>\n",
              "      <td>NaN</td>\n",
              "      <td>2.0</td>\n",
              "      <td>NaN</td>\n",
              "      <td>NaN</td>\n",
              "      <td>NaN</td>\n",
              "      <td>NaN</td>\n",
              "      <td>NaN</td>\n",
              "      <td>NaN</td>\n",
              "      <td>NaN</td>\n",
              "      <td>NaN</td>\n",
              "      <td>NaN</td>\n",
              "    </tr>\n",
              "  </tbody>\n",
              "</table>\n",
              "</div>"
            ],
            "text/plain": [
              "                                             innings  ...  info.outcome.bowl_out\n",
              "2  [{'1st innings': {'team': 'Australia', 'delive...  ...                    NaN\n",
              "3  [{'1st innings': {'team': 'Hong Kong', 'delive...  ...                    NaN\n",
              "4  [{'1st innings': {'team': 'Zimbabwe', 'deliver...  ...                    NaN\n",
              "\n",
              "[3 rows x 27 columns]"
            ]
          },
          "metadata": {
            "tags": []
          },
          "execution_count": 7
        }
      ]
    },
    {
      "cell_type": "code",
      "metadata": {
        "id": "OEzPX3vbp4c-",
        "outputId": "7a9c63e3-39d4-44fb-9f39-149d5b0d02c7",
        "colab": {
          "base_uri": "https://localhost:8080/"
        }
      },
      "source": [
        "iccdf.columns"
      ],
      "execution_count": null,
      "outputs": [
        {
          "output_type": "execute_result",
          "data": {
            "text/plain": [
              "Index(['innings', 'meta.data_version', 'meta.created', 'meta.revision',\n",
              "       'info.dates', 'info.gender', 'info.match_type',\n",
              "       'info.outcome.by.wickets', 'info.outcome.winner', 'info.overs',\n",
              "       'info.player_of_match', 'info.teams', 'info.toss.decision',\n",
              "       'info.toss.winner', 'info.umpires', 'info.venue', 'info.city',\n",
              "       'info.outcome.by.runs', 'info.match_type_number', 'info.neutral_venue',\n",
              "       'info.outcome.method', 'info.outcome.result', 'info.outcome.eliminator',\n",
              "       'info.supersubs.New Zealand', 'info.supersubs.South Africa',\n",
              "       'info.bowl_out', 'info.outcome.bowl_out'],\n",
              "      dtype='object')"
            ]
          },
          "metadata": {
            "tags": []
          },
          "execution_count": 8
        }
      ]
    },
    {
      "cell_type": "code",
      "metadata": {
        "id": "-J3anVV2qMTh",
        "outputId": "1859f5e3-ae9d-4c91-884d-0a5c4dadc38d",
        "colab": {
          "base_uri": "https://localhost:8080/"
        }
      },
      "source": [
        "iccdf['info.teams']"
      ],
      "execution_count": null,
      "outputs": [
        {
          "output_type": "execute_result",
          "data": {
            "text/plain": [
              "0                    ['Australia', 'Sri Lanka']\n",
              "1                    ['Australia', 'Sri Lanka']\n",
              "2                    ['Australia', 'Sri Lanka']\n",
              "3                      ['Ireland', 'Hong Kong']\n",
              "4                         ['Zimbabwe', 'India']\n",
              "                         ...                   \n",
              "1412                  ['Pakistan', 'Sri Lanka']\n",
              "1413                    ['Bangladesh', 'India']\n",
              "1414    ['United Arab Emirates', 'Netherlands']\n",
              "1415                 ['Sri Lanka', 'Australia']\n",
              "1416                 ['Sri Lanka', 'Australia']\n",
              "Name: info.teams, Length: 1417, dtype: object"
            ]
          },
          "metadata": {
            "tags": []
          },
          "execution_count": 14
        }
      ]
    },
    {
      "cell_type": "code",
      "metadata": {
        "id": "DdMqUk7Qqbq3",
        "outputId": "fd8378d7-b03d-4177-c22f-2035680cfa63",
        "colab": {
          "base_uri": "https://localhost:8080/"
        }
      },
      "source": [
        "type(iccdf['info.teams'])"
      ],
      "execution_count": null,
      "outputs": [
        {
          "output_type": "execute_result",
          "data": {
            "text/plain": [
              "pandas.core.series.Series"
            ]
          },
          "metadata": {
            "tags": []
          },
          "execution_count": 15
        }
      ]
    },
    {
      "cell_type": "code",
      "metadata": {
        "id": "Mj3L3BoMr0MD",
        "outputId": "4155c606-736a-4c53-a7b9-6faabc9d0dcb",
        "colab": {
          "base_uri": "https://localhost:8080/",
          "height": 404
        }
      },
      "source": [
        "iccdf[['info.teams', 'info.outcome.result']]"
      ],
      "execution_count": null,
      "outputs": [
        {
          "output_type": "execute_result",
          "data": {
            "text/html": [
              "<div>\n",
              "<style scoped>\n",
              "    .dataframe tbody tr th:only-of-type {\n",
              "        vertical-align: middle;\n",
              "    }\n",
              "\n",
              "    .dataframe tbody tr th {\n",
              "        vertical-align: top;\n",
              "    }\n",
              "\n",
              "    .dataframe thead th {\n",
              "        text-align: right;\n",
              "    }\n",
              "</style>\n",
              "<table border=\"1\" class=\"dataframe\">\n",
              "  <thead>\n",
              "    <tr style=\"text-align: right;\">\n",
              "      <th></th>\n",
              "      <th>info.teams</th>\n",
              "      <th>info.outcome.result</th>\n",
              "    </tr>\n",
              "  </thead>\n",
              "  <tbody>\n",
              "    <tr>\n",
              "      <th>0</th>\n",
              "      <td>['Australia', 'Sri Lanka']</td>\n",
              "      <td>NaN</td>\n",
              "    </tr>\n",
              "    <tr>\n",
              "      <th>1</th>\n",
              "      <td>['Australia', 'Sri Lanka']</td>\n",
              "      <td>NaN</td>\n",
              "    </tr>\n",
              "    <tr>\n",
              "      <th>2</th>\n",
              "      <td>['Australia', 'Sri Lanka']</td>\n",
              "      <td>NaN</td>\n",
              "    </tr>\n",
              "    <tr>\n",
              "      <th>3</th>\n",
              "      <td>['Ireland', 'Hong Kong']</td>\n",
              "      <td>NaN</td>\n",
              "    </tr>\n",
              "    <tr>\n",
              "      <th>4</th>\n",
              "      <td>['Zimbabwe', 'India']</td>\n",
              "      <td>NaN</td>\n",
              "    </tr>\n",
              "    <tr>\n",
              "      <th>...</th>\n",
              "      <td>...</td>\n",
              "      <td>...</td>\n",
              "    </tr>\n",
              "    <tr>\n",
              "      <th>1412</th>\n",
              "      <td>['Pakistan', 'Sri Lanka']</td>\n",
              "      <td>NaN</td>\n",
              "    </tr>\n",
              "    <tr>\n",
              "      <th>1413</th>\n",
              "      <td>['Bangladesh', 'India']</td>\n",
              "      <td>NaN</td>\n",
              "    </tr>\n",
              "    <tr>\n",
              "      <th>1414</th>\n",
              "      <td>['United Arab Emirates', 'Netherlands']</td>\n",
              "      <td>NaN</td>\n",
              "    </tr>\n",
              "    <tr>\n",
              "      <th>1415</th>\n",
              "      <td>['Sri Lanka', 'Australia']</td>\n",
              "      <td>NaN</td>\n",
              "    </tr>\n",
              "    <tr>\n",
              "      <th>1416</th>\n",
              "      <td>['Sri Lanka', 'Australia']</td>\n",
              "      <td>NaN</td>\n",
              "    </tr>\n",
              "  </tbody>\n",
              "</table>\n",
              "<p>1417 rows × 2 columns</p>\n",
              "</div>"
            ],
            "text/plain": [
              "                                   info.teams info.outcome.result\n",
              "0                  ['Australia', 'Sri Lanka']                 NaN\n",
              "1                  ['Australia', 'Sri Lanka']                 NaN\n",
              "2                  ['Australia', 'Sri Lanka']                 NaN\n",
              "3                    ['Ireland', 'Hong Kong']                 NaN\n",
              "4                       ['Zimbabwe', 'India']                 NaN\n",
              "...                                       ...                 ...\n",
              "1412                ['Pakistan', 'Sri Lanka']                 NaN\n",
              "1413                  ['Bangladesh', 'India']                 NaN\n",
              "1414  ['United Arab Emirates', 'Netherlands']                 NaN\n",
              "1415               ['Sri Lanka', 'Australia']                 NaN\n",
              "1416               ['Sri Lanka', 'Australia']                 NaN\n",
              "\n",
              "[1417 rows x 2 columns]"
            ]
          },
          "metadata": {
            "tags": []
          },
          "execution_count": 16
        }
      ]
    },
    {
      "cell_type": "code",
      "metadata": {
        "id": "VPB5gxh6sJKR",
        "outputId": "379a75e0-0465-46aa-95be-e011d3545253",
        "colab": {
          "base_uri": "https://localhost:8080/"
        }
      },
      "source": [
        "iccdf.shape"
      ],
      "execution_count": null,
      "outputs": [
        {
          "output_type": "execute_result",
          "data": {
            "text/plain": [
              "(1417, 27)"
            ]
          },
          "metadata": {
            "tags": []
          },
          "execution_count": 17
        }
      ]
    },
    {
      "cell_type": "code",
      "metadata": {
        "id": "XlvmzivrsPiS",
        "outputId": "424e8bdb-273d-4a3c-e72c-35927a6353dd",
        "colab": {
          "base_uri": "https://localhost:8080/"
        }
      },
      "source": [
        "iccdf['info.outcome.by.runs'].max()"
      ],
      "execution_count": null,
      "outputs": [
        {
          "output_type": "execute_result",
          "data": {
            "text/plain": [
              "249.0"
            ]
          },
          "metadata": {
            "tags": []
          },
          "execution_count": 18
        }
      ]
    },
    {
      "cell_type": "code",
      "metadata": {
        "id": "DTwr-7qhtf9v",
        "outputId": "9b0a9d17-2eec-42c3-f5f8-64f81060fd88",
        "colab": {
          "base_uri": "https://localhost:8080/"
        }
      },
      "source": [
        "iccdf['info.outcome.by.runs'].mean()"
      ],
      "execution_count": null,
      "outputs": [
        {
          "output_type": "execute_result",
          "data": {
            "text/plain": [
              "39.08876560332871"
            ]
          },
          "metadata": {
            "tags": []
          },
          "execution_count": 19
        }
      ]
    },
    {
      "cell_type": "code",
      "metadata": {
        "id": "euAjFq-4tvwy",
        "outputId": "2e0a1134-dd4e-453b-a521-3b2925f1681b",
        "colab": {
          "base_uri": "https://localhost:8080/"
        }
      },
      "source": [
        "iccdf['info.outcome.by.runs'].min()"
      ],
      "execution_count": null,
      "outputs": [
        {
          "output_type": "execute_result",
          "data": {
            "text/plain": [
              "1.0"
            ]
          },
          "metadata": {
            "tags": []
          },
          "execution_count": 20
        }
      ]
    },
    {
      "cell_type": "code",
      "metadata": {
        "id": "pYbcHgSzt45y",
        "outputId": "6f39061b-397b-4e2a-c1e9-fb7d55636354",
        "colab": {
          "base_uri": "https://localhost:8080/"
        }
      },
      "source": [
        "iccdf['info.outcome.by.runs'].std()"
      ],
      "execution_count": null,
      "outputs": [
        {
          "output_type": "execute_result",
          "data": {
            "text/plain": [
              "33.3857570887769"
            ]
          },
          "metadata": {
            "tags": []
          },
          "execution_count": 21
        }
      ]
    },
    {
      "cell_type": "code",
      "metadata": {
        "id": "z80GlEtAuKV9",
        "outputId": "52edd786-0860-4032-e361-087a2066f10d",
        "colab": {
          "base_uri": "https://localhost:8080/",
          "height": 286
        }
      },
      "source": [
        "iccdf.describe()"
      ],
      "execution_count": null,
      "outputs": [
        {
          "output_type": "execute_result",
          "data": {
            "text/html": [
              "<div>\n",
              "<style scoped>\n",
              "    .dataframe tbody tr th:only-of-type {\n",
              "        vertical-align: middle;\n",
              "    }\n",
              "\n",
              "    .dataframe tbody tr th {\n",
              "        vertical-align: top;\n",
              "    }\n",
              "\n",
              "    .dataframe thead th {\n",
              "        text-align: right;\n",
              "    }\n",
              "</style>\n",
              "<table border=\"1\" class=\"dataframe\">\n",
              "  <thead>\n",
              "    <tr style=\"text-align: right;\">\n",
              "      <th></th>\n",
              "      <th>meta.data_version</th>\n",
              "      <th>meta.revision</th>\n",
              "      <th>info.outcome.by.wickets</th>\n",
              "      <th>info.overs</th>\n",
              "      <th>info.outcome.by.runs</th>\n",
              "      <th>info.match_type_number</th>\n",
              "      <th>info.neutral_venue</th>\n",
              "    </tr>\n",
              "  </thead>\n",
              "  <tbody>\n",
              "    <tr>\n",
              "      <th>count</th>\n",
              "      <td>1.417000e+03</td>\n",
              "      <td>1417.000000</td>\n",
              "      <td>651.000000</td>\n",
              "      <td>1417.000000</td>\n",
              "      <td>721.000000</td>\n",
              "      <td>684.000000</td>\n",
              "      <td>328.0</td>\n",
              "    </tr>\n",
              "    <tr>\n",
              "      <th>mean</th>\n",
              "      <td>9.000000e-01</td>\n",
              "      <td>1.370501</td>\n",
              "      <td>6.476190</td>\n",
              "      <td>20.063514</td>\n",
              "      <td>39.088766</td>\n",
              "      <td>748.774854</td>\n",
              "      <td>1.0</td>\n",
              "    </tr>\n",
              "    <tr>\n",
              "      <th>std</th>\n",
              "      <td>5.108829e-15</td>\n",
              "      <td>0.575198</td>\n",
              "      <td>1.987802</td>\n",
              "      <td>1.379399</td>\n",
              "      <td>33.385757</td>\n",
              "      <td>190.050264</td>\n",
              "      <td>0.0</td>\n",
              "    </tr>\n",
              "    <tr>\n",
              "      <th>min</th>\n",
              "      <td>9.000000e-01</td>\n",
              "      <td>1.000000</td>\n",
              "      <td>1.000000</td>\n",
              "      <td>20.000000</td>\n",
              "      <td>1.000000</td>\n",
              "      <td>380.000000</td>\n",
              "      <td>1.0</td>\n",
              "    </tr>\n",
              "    <tr>\n",
              "      <th>25%</th>\n",
              "      <td>9.000000e-01</td>\n",
              "      <td>1.000000</td>\n",
              "      <td>5.000000</td>\n",
              "      <td>20.000000</td>\n",
              "      <td>13.000000</td>\n",
              "      <td>627.000000</td>\n",
              "      <td>1.0</td>\n",
              "    </tr>\n",
              "    <tr>\n",
              "      <th>50%</th>\n",
              "      <td>9.000000e-01</td>\n",
              "      <td>1.000000</td>\n",
              "      <td>7.000000</td>\n",
              "      <td>20.000000</td>\n",
              "      <td>30.000000</td>\n",
              "      <td>746.500000</td>\n",
              "      <td>1.0</td>\n",
              "    </tr>\n",
              "    <tr>\n",
              "      <th>75%</th>\n",
              "      <td>9.000000e-01</td>\n",
              "      <td>2.000000</td>\n",
              "      <td>8.000000</td>\n",
              "      <td>20.000000</td>\n",
              "      <td>56.000000</td>\n",
              "      <td>883.250000</td>\n",
              "      <td>1.0</td>\n",
              "    </tr>\n",
              "    <tr>\n",
              "      <th>max</th>\n",
              "      <td>9.000000e-01</td>\n",
              "      <td>5.000000</td>\n",
              "      <td>10.000000</td>\n",
              "      <td>50.000000</td>\n",
              "      <td>249.000000</td>\n",
              "      <td>1104.000000</td>\n",
              "      <td>1.0</td>\n",
              "    </tr>\n",
              "  </tbody>\n",
              "</table>\n",
              "</div>"
            ],
            "text/plain": [
              "       meta.data_version  ...  info.neutral_venue\n",
              "count       1.417000e+03  ...               328.0\n",
              "mean        9.000000e-01  ...                 1.0\n",
              "std         5.108829e-15  ...                 0.0\n",
              "min         9.000000e-01  ...                 1.0\n",
              "25%         9.000000e-01  ...                 1.0\n",
              "50%         9.000000e-01  ...                 1.0\n",
              "75%         9.000000e-01  ...                 1.0\n",
              "max         9.000000e-01  ...                 1.0\n",
              "\n",
              "[8 rows x 7 columns]"
            ]
          },
          "metadata": {
            "tags": []
          },
          "execution_count": 24
        }
      ]
    },
    {
      "cell_type": "code",
      "metadata": {
        "id": "KcjQD_nauQyk",
        "outputId": "15a634c4-9632-44af-fead-c4762a7352a3",
        "colab": {
          "base_uri": "https://localhost:8080/",
          "height": 181
        }
      },
      "source": [
        "iccdf[iccdf['info.outcome.by.runs']==iccdf['info.outcome.by.runs'].max()]"
      ],
      "execution_count": null,
      "outputs": [
        {
          "output_type": "execute_result",
          "data": {
            "text/html": [
              "<div>\n",
              "<style scoped>\n",
              "    .dataframe tbody tr th:only-of-type {\n",
              "        vertical-align: middle;\n",
              "    }\n",
              "\n",
              "    .dataframe tbody tr th {\n",
              "        vertical-align: top;\n",
              "    }\n",
              "\n",
              "    .dataframe thead th {\n",
              "        text-align: right;\n",
              "    }\n",
              "</style>\n",
              "<table border=\"1\" class=\"dataframe\">\n",
              "  <thead>\n",
              "    <tr style=\"text-align: right;\">\n",
              "      <th></th>\n",
              "      <th>innings</th>\n",
              "      <th>meta.data_version</th>\n",
              "      <th>meta.created</th>\n",
              "      <th>meta.revision</th>\n",
              "      <th>info.dates</th>\n",
              "      <th>info.gender</th>\n",
              "      <th>info.match_type</th>\n",
              "      <th>info.outcome.by.wickets</th>\n",
              "      <th>info.outcome.winner</th>\n",
              "      <th>info.overs</th>\n",
              "      <th>info.player_of_match</th>\n",
              "      <th>info.teams</th>\n",
              "      <th>info.toss.decision</th>\n",
              "      <th>info.toss.winner</th>\n",
              "      <th>info.umpires</th>\n",
              "      <th>info.venue</th>\n",
              "      <th>info.city</th>\n",
              "      <th>info.outcome.by.runs</th>\n",
              "      <th>info.match_type_number</th>\n",
              "      <th>info.neutral_venue</th>\n",
              "      <th>info.outcome.method</th>\n",
              "      <th>info.outcome.result</th>\n",
              "      <th>info.outcome.eliminator</th>\n",
              "      <th>info.supersubs.New Zealand</th>\n",
              "      <th>info.supersubs.South Africa</th>\n",
              "      <th>info.bowl_out</th>\n",
              "      <th>info.outcome.bowl_out</th>\n",
              "    </tr>\n",
              "  </thead>\n",
              "  <tbody>\n",
              "    <tr>\n",
              "      <th>688</th>\n",
              "      <td>[{'1st innings': {'team': 'Bangladesh', 'deliv...</td>\n",
              "      <td>0.9</td>\n",
              "      <td>2020-08-26</td>\n",
              "      <td>1</td>\n",
              "      <td>['2019-12-05']</td>\n",
              "      <td>female</td>\n",
              "      <td>T20</td>\n",
              "      <td>NaN</td>\n",
              "      <td>Bangladesh</td>\n",
              "      <td>20</td>\n",
              "      <td>['Nigar Sultana']</td>\n",
              "      <td>['Bangladesh', 'Maldives']</td>\n",
              "      <td>bat</td>\n",
              "      <td>Bangladesh</td>\n",
              "      <td>['Basu Karn', 'Hiralal Raut']</td>\n",
              "      <td>Pokhara Rangasala</td>\n",
              "      <td>Pokhara</td>\n",
              "      <td>249.0</td>\n",
              "      <td>807.0</td>\n",
              "      <td>NaN</td>\n",
              "      <td>NaN</td>\n",
              "      <td>NaN</td>\n",
              "      <td>NaN</td>\n",
              "      <td>NaN</td>\n",
              "      <td>NaN</td>\n",
              "      <td>NaN</td>\n",
              "      <td>NaN</td>\n",
              "    </tr>\n",
              "  </tbody>\n",
              "</table>\n",
              "</div>"
            ],
            "text/plain": [
              "                                               innings  ...  info.outcome.bowl_out\n",
              "688  [{'1st innings': {'team': 'Bangladesh', 'deliv...  ...                    NaN\n",
              "\n",
              "[1 rows x 27 columns]"
            ]
          },
          "metadata": {
            "tags": []
          },
          "execution_count": 26
        }
      ]
    },
    {
      "cell_type": "code",
      "metadata": {
        "id": "qDeW7UFLx_ov",
        "outputId": "654942e8-749e-4141-a22b-e81e8712899b",
        "colab": {
          "base_uri": "https://localhost:8080/"
        }
      },
      "source": [
        "iccdf['info.city'][iccdf['info.outcome.by.runs']==iccdf['info.outcome.by.runs'].max()]"
      ],
      "execution_count": null,
      "outputs": [
        {
          "output_type": "execute_result",
          "data": {
            "text/plain": [
              "688    Pokhara\n",
              "Name: info.city, dtype: object"
            ]
          },
          "metadata": {
            "tags": []
          },
          "execution_count": 28
        }
      ]
    },
    {
      "cell_type": "code",
      "metadata": {
        "id": "ejcnoTk-zBrF"
      },
      "source": [
        "iccdf.set_index(('meta.created'),inplace=True)"
      ],
      "execution_count": null,
      "outputs": []
    },
    {
      "cell_type": "code",
      "metadata": {
        "id": "eQWlr1rG0ARW",
        "outputId": "027b5dd6-9529-4275-84b8-41af8d02736c",
        "colab": {
          "base_uri": "https://localhost:8080/",
          "height": 324
        }
      },
      "source": [
        "iccdf.loc['2017-02-23']"
      ],
      "execution_count": null,
      "outputs": [
        {
          "output_type": "execute_result",
          "data": {
            "text/html": [
              "<div>\n",
              "<style scoped>\n",
              "    .dataframe tbody tr th:only-of-type {\n",
              "        vertical-align: middle;\n",
              "    }\n",
              "\n",
              "    .dataframe tbody tr th {\n",
              "        vertical-align: top;\n",
              "    }\n",
              "\n",
              "    .dataframe thead th {\n",
              "        text-align: right;\n",
              "    }\n",
              "</style>\n",
              "<table border=\"1\" class=\"dataframe\">\n",
              "  <thead>\n",
              "    <tr style=\"text-align: right;\">\n",
              "      <th></th>\n",
              "      <th>innings</th>\n",
              "      <th>meta.data_version</th>\n",
              "      <th>meta.revision</th>\n",
              "      <th>info.dates</th>\n",
              "      <th>info.gender</th>\n",
              "      <th>info.match_type</th>\n",
              "      <th>info.outcome.by.wickets</th>\n",
              "      <th>info.outcome.winner</th>\n",
              "      <th>info.overs</th>\n",
              "      <th>info.player_of_match</th>\n",
              "      <th>info.teams</th>\n",
              "      <th>info.toss.decision</th>\n",
              "      <th>info.toss.winner</th>\n",
              "      <th>info.umpires</th>\n",
              "      <th>info.venue</th>\n",
              "      <th>info.city</th>\n",
              "      <th>info.outcome.by.runs</th>\n",
              "      <th>info.match_type_number</th>\n",
              "      <th>info.neutral_venue</th>\n",
              "      <th>info.outcome.method</th>\n",
              "      <th>info.outcome.result</th>\n",
              "      <th>info.outcome.eliminator</th>\n",
              "      <th>info.supersubs.New Zealand</th>\n",
              "      <th>info.supersubs.South Africa</th>\n",
              "      <th>info.bowl_out</th>\n",
              "      <th>info.outcome.bowl_out</th>\n",
              "    </tr>\n",
              "    <tr>\n",
              "      <th>meta.created</th>\n",
              "      <th></th>\n",
              "      <th></th>\n",
              "      <th></th>\n",
              "      <th></th>\n",
              "      <th></th>\n",
              "      <th></th>\n",
              "      <th></th>\n",
              "      <th></th>\n",
              "      <th></th>\n",
              "      <th></th>\n",
              "      <th></th>\n",
              "      <th></th>\n",
              "      <th></th>\n",
              "      <th></th>\n",
              "      <th></th>\n",
              "      <th></th>\n",
              "      <th></th>\n",
              "      <th></th>\n",
              "      <th></th>\n",
              "      <th></th>\n",
              "      <th></th>\n",
              "      <th></th>\n",
              "      <th></th>\n",
              "      <th></th>\n",
              "      <th></th>\n",
              "      <th></th>\n",
              "    </tr>\n",
              "  </thead>\n",
              "  <tbody>\n",
              "    <tr>\n",
              "      <th>2017-02-23</th>\n",
              "      <td>[{'1st innings': {'team': 'Australia', 'delive...</td>\n",
              "      <td>0.9</td>\n",
              "      <td>1</td>\n",
              "      <td>[datetime.date(2017, 2, 22)]</td>\n",
              "      <td>male</td>\n",
              "      <td>T20</td>\n",
              "      <td>NaN</td>\n",
              "      <td>Australia</td>\n",
              "      <td>20</td>\n",
              "      <td>['A Zampa']</td>\n",
              "      <td>['Australia', 'Sri Lanka']</td>\n",
              "      <td>field</td>\n",
              "      <td>Sri Lanka</td>\n",
              "      <td>['MD Martell', 'P Wilson']</td>\n",
              "      <td>Adelaide Oval</td>\n",
              "      <td>NaN</td>\n",
              "      <td>41.0</td>\n",
              "      <td>NaN</td>\n",
              "      <td>NaN</td>\n",
              "      <td>NaN</td>\n",
              "      <td>NaN</td>\n",
              "      <td>NaN</td>\n",
              "      <td>NaN</td>\n",
              "      <td>NaN</td>\n",
              "      <td>NaN</td>\n",
              "      <td>NaN</td>\n",
              "    </tr>\n",
              "    <tr>\n",
              "      <th>2017-02-23</th>\n",
              "      <td>[{'1st innings': {'team': 'New Zealand', 'deli...</td>\n",
              "      <td>0.9</td>\n",
              "      <td>1</td>\n",
              "      <td>[datetime.date(2017, 2, 22)]</td>\n",
              "      <td>female</td>\n",
              "      <td>T20</td>\n",
              "      <td>NaN</td>\n",
              "      <td>New Zealand</td>\n",
              "      <td>20</td>\n",
              "      <td>['SW Bates']</td>\n",
              "      <td>['Australia', 'New Zealand']</td>\n",
              "      <td>bat</td>\n",
              "      <td>New Zealand</td>\n",
              "      <td>['GA Abood', 'JD Ward']</td>\n",
              "      <td>Adelaide Oval</td>\n",
              "      <td>NaN</td>\n",
              "      <td>47.0</td>\n",
              "      <td>NaN</td>\n",
              "      <td>NaN</td>\n",
              "      <td>NaN</td>\n",
              "      <td>NaN</td>\n",
              "      <td>NaN</td>\n",
              "      <td>NaN</td>\n",
              "      <td>NaN</td>\n",
              "      <td>NaN</td>\n",
              "      <td>NaN</td>\n",
              "    </tr>\n",
              "  </tbody>\n",
              "</table>\n",
              "</div>"
            ],
            "text/plain": [
              "                                                        innings  ...  info.outcome.bowl_out\n",
              "meta.created                                                     ...                       \n",
              "2017-02-23    [{'1st innings': {'team': 'Australia', 'delive...  ...                    NaN\n",
              "2017-02-23    [{'1st innings': {'team': 'New Zealand', 'deli...  ...                    NaN\n",
              "\n",
              "[2 rows x 26 columns]"
            ]
          },
          "metadata": {
            "tags": []
          },
          "execution_count": 39
        }
      ]
    },
    {
      "cell_type": "code",
      "metadata": {
        "id": "qds7LgsD1EDw"
      },
      "source": [
        ""
      ],
      "execution_count": null,
      "outputs": []
    }
  ]
}